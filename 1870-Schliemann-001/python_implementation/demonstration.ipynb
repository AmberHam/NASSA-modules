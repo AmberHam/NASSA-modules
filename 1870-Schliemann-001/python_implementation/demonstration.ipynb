{
 "cells": [
  {
   "cell_type": "markdown",
   "metadata": {},
   "source": [
    "# (DUMMY EXAMPLE) TroyDestroy. Bronze Age siege and its destructive effect on settlement\n",
    "Import `Army` and `City`:"
   ]
  },
  {
   "cell_type": "code",
   "execution_count": 1,
   "metadata": {},
   "outputs": [],
   "source": [
    "from Army import Army\n",
    "from City import City"
   ]
  },
  {
   "cell_type": "markdown",
   "metadata": {},
   "source": [
    "Assign input values:"
   ]
  },
  {
   "cell_type": "code",
   "execution_count": 2,
   "metadata": {},
   "outputs": [],
   "source": [
    "GREEKS_STRENGTH = 100\n",
    "TROJANS_STRENGTH = 50\n",
    "DESTRUCTION_RATE = 0.42\n",
    "\n",
    "TROY_HEALTH = 100"
   ]
  },
  {
   "cell_type": "markdown",
   "metadata": {},
   "source": [
    "Initialise instances of `Army` (Greeks, Trojans) and `City` (Troy):"
   ]
  },
  {
   "cell_type": "code",
   "execution_count": 3,
   "metadata": {},
   "outputs": [],
   "source": [
    "greeks = Army(GREEKS_STRENGTH)\n",
    "\n",
    "trojans = Army(TROJANS_STRENGTH)\n",
    "\n",
    "troy = City(TROY_HEALTH)"
   ]
  },
  {
   "cell_type": "markdown",
   "metadata": {},
   "source": [
    "Execute the algorithm using the instances and printing the Troy's health before and after the war: "
   ]
  },
  {
   "cell_type": "code",
   "execution_count": 4,
   "metadata": {},
   "outputs": [
    {
     "name": "stdout",
     "output_type": "stream",
     "text": [
      "Troy health before war: 100\n",
      "Troy health after war: 16.0\n"
     ]
    }
   ],
   "source": [
    "print(\"Troy health before war: \" + str(troy.health))\n",
    "\n",
    "troy.resolve_war(GREEKS_STRENGTH, TROJANS_STRENGTH, DESTRUCTION_RATE)\n",
    "\n",
    "print(\"Troy health after war: \" + str(troy.health))"
   ]
  }
 ],
 "metadata": {
  "kernelspec": {
   "display_name": "Python 3",
   "language": "python",
   "name": "python3"
  },
  "language_info": {
   "codemirror_mode": {
    "name": "ipython",
    "version": 3
   },
   "file_extension": ".py",
   "mimetype": "text/x-python",
   "name": "python",
   "nbconvert_exporter": "python",
   "pygments_lexer": "ipython3",
   "version": "3.9.0"
  }
 },
 "nbformat": 4,
 "nbformat_minor": 2
}
